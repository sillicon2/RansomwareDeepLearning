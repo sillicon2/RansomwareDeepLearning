{
 "cells": [
  {
   "cell_type": "code",
   "execution_count": null,
   "metadata": {},
   "outputs": [],
   "source": [
    "#Importacion de librerias necesarias \n",
    "import requests\n",
    "import json\n",
    "import string\n",
    "from virus_total_apis import PublicApi\n",
    "import pandas as pd\n",
    "\n",
    "dataframe = pd.DataFrame(columns=['hash'])  #creacion del dataframe\n",
    "\n",
    "dataframe.head()\n",
    "def datos(hashX):\n",
    "    m=hashX.split(\",\")\n",
    "    r=int(m[-1])\n",
    "    hashS =m[0]\n",
    "    global dataframe\n",
    "    df = pd.DataFrame() \n",
    "    url = 'https://www.virustotal.com/vtapi/v2/file/report'\n",
    "    hashB = hashS #modificar\n",
    "    params = {'apikey': 'YOUR KEY', 'resource': hashB, 'allinfo' :'true'}\n",
    "    df['hash'] = [hashB]\n",
    "    \n",
    "    #consulta a la API de virus total y conversion de la respuesta de json a diccionario\n",
    "    response1 = requests.get(url, params=params)\n",
    "    convert = json.loads(response1.content)\n",
    "    \n",
    "    #librerias importadas inicialmente por el PE\n",
    "    try:\n",
    "        numerolibreriasPE=len(convert['additional_info']['imports'].keys())\n",
    "        df['numerolibreriasPE'] = [numerolibreriasPE]\n",
    "        if numerolibreriasPE>0:\n",
    "            for i in convert['additional_info']['imports'].keys(): \n",
    "                df[i.lower()] = 1\n",
    "    except KeyError:\n",
    "        df['numerolibreriasPE'] = 0\n",
    "    \n",
    "    \n",
    "    #tags importadas \n",
    "    try:\n",
    "        numeroTags=len(convert['tags'])\n",
    "        df['numeroTags'] = [numeroTags]\n",
    "        if numeroTags>0:\n",
    "            for i in convert['tags']: \n",
    "                df[i] = 1\n",
    "    except KeyError:\n",
    "        df['numeroTags'] = 0\n",
    "    \n",
    "    \n",
    "    #embedded_domains\n",
    "    try: \n",
    "        convert[\"additional_info\"][\"embedded_domains\"]\n",
    "        numeroDominiosEmb = len(convert['additional_info']['embedded_domains'])\n",
    "        #dominios a la red .tor\n",
    "        if numeroDominiosEmb>0: \n",
    "            StrAA = \"\".join(convert['additional_info']['embedded_domains'])\n",
    "            if StrAA.find('.onion') == -1: \n",
    "                dominioEmbTor=0\n",
    "            else: \n",
    "                dominioEmbTor=1\n",
    "\n",
    "        #agregar a dataframe\n",
    "        df['NumeroDominiosEmbebidos'] = [numeroDominiosEmb]\n",
    "        df['DominiosEmbebidosTor'] = [dominioEmbTor]\n",
    "    except KeyError: \n",
    "        df['NumeroDominiosEmbebidos'] = 0\n",
    "        df['DominiosEmbebidosTor'] = 0\n",
    "    \n",
    "    # numero de lenguajes en el ejecutable (PE)\n",
    "    try:\n",
    "        numeroLenguajes = len(convert['additional_info']['pe-resource-langs'])\n",
    "        df['numeroLenguajes'] = [numeroLenguajes]\n",
    "        #numero de cadenas de los diferentes lenguajes\n",
    "        if numeroLenguajes>0:\n",
    "            for i in convert['additional_info']['pe-resource-langs'].keys():\n",
    "                i = i.split(\" \")\n",
    "                a = i[0].lower()\n",
    "                df[a] = 1 \n",
    "    except KeyError:             \n",
    "        df['numeroLenguajes'] = 0\n",
    "    \n",
    "    #dominios contactados\n",
    "    try: \n",
    "        numeroDominiosContactados=len(convert['additional_info']['contacted_domains'])\n",
    "        df['numeroDominiosContactados'] = [numeroDominiosContactados]\n",
    "        #dominios a la red .tor\n",
    "        if numeroDominiosContactados>0: \n",
    "            StrA = \"\".join(convert['additional_info']['contacted_domains'])\n",
    "            if StrA.find('.onion') == -1: \n",
    "                dominioTor=0\n",
    "            else: \n",
    "                dominioTor=1\n",
    "        df['numeroDominiosContactados'] = [numeroDominiosContactados]\n",
    "        df['DominiosContactadosTor'] = [dominioTor]\n",
    "    except KeyError:\n",
    "        df['numeroDominiosContactados'] = 0\n",
    "        df['DominiosContactadosTor'] = 0\n",
    "    \n",
    "    \n",
    "    #URL contactadas\n",
    "    try: \n",
    "        numeroURLContactadas=len(convert['additional_info']['contacted_urls'])\n",
    "        #URLS a la red .tor\n",
    "        dominioTor=0\n",
    "        if numeroURLContactadas>0: \n",
    "            StrA = \"\".join(convert['additional_info']['contacted_urls'])\n",
    "            if StrA.find('.onion') == -1: \n",
    "                dominioTor=0\n",
    "            else: \n",
    "                dominioTor=1\n",
    "        df['numeroURLContactadas'] = [numeroURLContactadas]       \n",
    "        df['URLContactadosTor'] = [dominioTor]\n",
    "    except KeyError:\n",
    "        df['numeroURLContactadas'] = 0       \n",
    "        df['URLContactadosTor'] = 0\n",
    "   \n",
    "\n",
    "    #IPs contactadas\n",
    "    try: \n",
    "        numeroIPContactadas=len(convert['additional_info']['contacted_ips'])\n",
    "        df['numeroIPContactadas'] = [numeroIPContactadas]\n",
    "    except KeyError:\n",
    "        df['numeroIPContactadas'] = 0       \n",
    "\n",
    "\n",
    "\n",
    "    #conexiones en tiempo de ejecucion\n",
    "    try:\n",
    "        convert['additional_info']['behaviour-v1']['network']\n",
    "        #numero de conexiones UDP \n",
    "        NumConexionesUDP=len(convert['additional_info']['behaviour-v1']['network']['udp'])\n",
    "        df['NumConexionesUDP'] = [NumConexionesUDP]\n",
    "        NumConexionesHTTP=len(convert['additional_info']['behaviour-v1']['network']['http'])\n",
    "        df['NumConexionesHTTP'] = [NumConexionesHTTP]\n",
    "        NumConexionesTCP=len(convert['additional_info']['behaviour-v1']['network']['tcp'])\n",
    "        df['NumConexionesTCP'] = [NumConexionesTCP]\n",
    "        NumConexionesDNS=len(convert['additional_info']['behaviour-v1']['network']['dns'])\n",
    "        df['NumConexionesDNS'] = [NumConexionesDNS]\n",
    "    except KeyError:\n",
    "        df['NumConexionesUDP'] = 0\n",
    "        df['NumConexionesHTTP'] = 0\n",
    "        df['NumConexionesTCP'] = 0\n",
    "        df['NumConexionesDNS'] = 0\n",
    "\n",
    "    \n",
    "    #Operaciones con archivos\n",
    "    try:\n",
    "        NumArchivosAbiertos=len(convert['additional_info']['behaviour-v1']['filesystem']['opened'])\n",
    "        NumArchivosLeidos=len(convert['additional_info']['behaviour-v1']['filesystem']['read'])\n",
    "        NumArchivosMovidos=len(convert['additional_info']['behaviour-v1']['filesystem']['moved'])\n",
    "        NumArchivosDescargados=len(convert['additional_info']['behaviour-v1']['filesystem']['downloaded'])\n",
    "        NumArchivosEscritos=len(convert['additional_info']['behaviour-v1']['filesystem']['written'])\n",
    "        NumArchivosReemplazados=len(convert['additional_info']['behaviour-v1']['filesystem']['replaced'])\n",
    "        NumArchivosBorrados=len(convert['additional_info']['behaviour-v1']['filesystem']['deleted'])\n",
    "        NumArchivosCopiados=len(convert['additional_info']['behaviour-v1']['filesystem']['copied'])\n",
    "        df['NumArchivosAbiertos'] = [NumArchivosAbiertos]\n",
    "        df['NumArchivosLeidos'] = [NumArchivosLeidos]\n",
    "        df['NumArchivosMovidos'] = [NumArchivosMovidos]\n",
    "        df['NumArchivosDescargados'] = [NumArchivosDescargados]\n",
    "        df['NumArchivosEscritos'] = [NumArchivosEscritos]\n",
    "        df['NumArchivosReemplazados'] = [NumArchivosReemplazados]\n",
    "        df['NumArchivosBorrados'] = [NumArchivosBorrados]\n",
    "        df['NumArchivosCopiados'] = [NumArchivosCopiados]\n",
    "    except KeyError:\n",
    "        df['NumArchivosAbiertos'] = 0\n",
    "        df['NumArchivosLeidos'] = 0\n",
    "        df['NumArchivosMovidos'] = 0\n",
    "        df['NumArchivosDescargados'] = 0\n",
    "        df['NumArchivosEscritos'] = 0\n",
    "        df['NumArchivosReemplazados'] = 0\n",
    "        df['NumArchivosBorrados'] = 0\n",
    "        df['NumArchivosCopiados'] = 0\n",
    "\n",
    "        \n",
    " \n",
    "    #Librerias importadas en tiempo de ejecucion \n",
    "    try:\n",
    "        numeroLibreriasEJ = len(convert['additional_info']['behaviour-v1']['runtime-dlls'])\n",
    "        df['numeroLibreriasEJ'] = [numeroLibreriasEJ]\n",
    "        if numeroLibreriasEJ>0:\n",
    "            for i in range (0, len(convert['additional_info']['behaviour-v1']['runtime-dlls'])):\n",
    "                a =convert['additional_info']['behaviour-v1']['runtime-dlls'][i]\n",
    "                b = dict(a)\n",
    "                cadena = \"\".join(b.get('file'))\n",
    "                if cadena.find('\\\\') != -1:\n",
    "                    cadena = cadena.split(\"\\\\\")\n",
    "                    df[cadena[-1].lower()] = 1\n",
    "                else:\n",
    "                    df[b.get('file')] = 1\n",
    "    except KeyError:\n",
    "        df['numeroLibreriasEJ'] = 0\n",
    "\n",
    "\n",
    "        \n",
    "        \n",
    "    #Operaciones con procesos en tiempo de ejecucion   \n",
    "    try:\n",
    "        numeroProcesosCreados = len(convert['additional_info']['behaviour-v1']['process']['created'])\n",
    "        numeroProcesosInjectados = len(convert['additional_info']['behaviour-v1']['process']['injected'])\n",
    "        numeroProcesosTerminados = len(convert['additional_info']['behaviour-v1']['process']['terminated'])\n",
    "        numeroProcesosShell = len(convert['additional_info']['behaviour-v1']['process']['shellcmds'])\n",
    "        df['numeroProcesosCreados'] = [numeroProcesosCreados]\n",
    "        df['numeroProcesosInjectados'] = [numeroProcesosInjectados]\n",
    "        df['numeroProcesosTerminados'] = [numeroProcesosTerminados]\n",
    "        df['numeroProcesosShell'] = [numeroProcesosShell]\n",
    "    except KeyError:\n",
    "        df['numeroProcesosCreados'] = 0\n",
    "        df['numeroProcesosInjectados'] = 0\n",
    "        df['numeroProcesosTerminados'] = 0\n",
    "        df['numeroProcesosShell'] = 0   \n",
    "\n",
    "    #utilizacion de objetos mutex\n",
    "\n",
    "    try:\n",
    "        mutexAbiertos = len(convert['additional_info']['behaviour-v1']['mutex']['opened'])\n",
    "        df['mutexAbiertos'] = [mutexAbiertos]\n",
    "        if mutexAbiertos>0: \n",
    "            for i in range (0, len(convert['additional_info']['behaviour-v1']['mutex']['opened'])):\n",
    "                a = convert['additional_info']['behaviour-v1']['mutex']['opened'][i]\n",
    "                b = dict(a)\n",
    "                df[b.get('mutex')] = 1\n",
    "        mutexCreados = len(convert['additional_info']['behaviour-v1']['mutex']['created'])\n",
    "        df['mutexCreados'] = [mutexCreados]\n",
    "        if mutexCreados >0: \n",
    "            for i in range (0, len(convert['additional_info']['behaviour-v1']['mutex']['created'])):\n",
    "                a = convert['additional_info']['behaviour-v1']['mutex']['created'][i]\n",
    "                b = dict(a)\n",
    "                df[b.get('mutex')] = 1\n",
    "    except KeyError:\n",
    "        df['mutexAbiertos'] = 0\n",
    "        df['mutexCreados'] = 0\n",
    "\n",
    "    #creacion de persistencia\n",
    "    try:\n",
    "        persistencia = len(convert['additional_info']['autostart'])\n",
    "        if persistencia>0:\n",
    "            df['persistencia'] = 1\n",
    "        else:\n",
    "            df['persistencia'] = 0\n",
    "    except KeyError:\n",
    "        df['persistencia'] = 0        \n",
    "\n",
    "    \n",
    "    #Manejo de hocks\n",
    "\n",
    "    try:\n",
    "        hooking = len(convert['additional_info']['behaviour-v1']['hooking'])\n",
    "        df['hooking'] = [hooking]\n",
    "        if hooking>0: \n",
    "            for i in range (0, len(convert['additional_info']['behaviour-v1']['hooking'])):\n",
    "                a = convert['additional_info']['behaviour-v1']['hooking'][i]\n",
    "                b = dict(a)\n",
    "                df[b.get('type')] = 1\n",
    "    except KeyError:\n",
    "        df['hooking'] = 0        \n",
    "\n",
    "   \n",
    "\n",
    "    #tags de las capacidades en tiempo de ejecucion\n",
    "\n",
    "    try:\n",
    "        capacidades= len(convert['additional_info']['capabilities_tags'])\n",
    "        df['capacidades'] = [capacidades]\n",
    "        if capacidades>0: \n",
    "            for i in convert['additional_info']['capabilities_tags']: \n",
    "                df[i] = 1\n",
    "    except KeyError:\n",
    "        df['capacidades'] = 0    \n",
    "    except AttributeError:\n",
    "        df['capacidades'] = 0     \n",
    "\n",
    "        \n",
    "    #modificaciones del registro en tiempo real\n",
    "    try:\n",
    "        registroBorrado= len(convert['additional_info']['behaviour-v1']['registry']['deleted'])\n",
    "        df['registroBorrado'] = [registroBorrado]\n",
    "        registroInsertado= len(convert['additional_info']['behaviour-v1']['registry']['set'])\n",
    "        df['registroInsertado'] = [registroInsertado]\n",
    "    except KeyError:\n",
    "        df['registroBorrado'] = 0\n",
    "        df['registroInsertado'] = 0\n",
    "        \n",
    "    #Es o no ransomware\n",
    "    try:\n",
    "        if r == 1:\n",
    "            df['ransomware'] = 1\n",
    "        else: \n",
    "            df['ransomware'] = 0\n",
    "    except KeyError:\n",
    "            df['ransomware'] = 2\n",
    "\n",
    "    \n",
    "    #Type que clase de ejecutable es\n",
    "    try:\n",
    "        df['Tipo'] = convert['type']\n",
    "    except KeyError:\n",
    "        df['Tipo'] = ['desconocido']\n",
    "\n",
    "    #integracion de la informacion extraida al dataframe general \n",
    "    dataframe = dataframe.append(df,ignore_index=True)    \n",
    "    \n"
   ]
  },
  {
   "cell_type": "code",
   "execution_count": null,
   "metadata": {},
   "outputs": [],
   "source": [
    "dataframe.head()"
   ]
  },
  {
   "cell_type": "code",
   "execution_count": null,
   "metadata": {},
   "outputs": [],
   "source": [
    "#Leer los hashes para armar el archivo dataframe\n",
    "\n",
    "f = open ('D:/escritorio/has1.txt.txt','r')\n",
    "j = 0\n",
    "m = 0\n",
    "for i in f:\n",
    "    datos(i)\n",
    "    j = j + 1\n",
    "    m = m + 1\n",
    "    if j == 1000:\n",
    "        print(\"procesado actualmente: \", m)\n",
    "        j = 0\n",
    "f.close()\n",
    "print(\"Proceso de descarga de informacion terminado\")"
   ]
  },
  {
   "cell_type": "code",
   "execution_count": null,
   "metadata": {},
   "outputs": [],
   "source": []
  },
  {
   "cell_type": "code",
   "execution_count": null,
   "metadata": {},
   "outputs": [],
   "source": [
    "#Cambiar valores NaN por cero (0)\n",
    "\n",
    "dataframe.fillna(0, inplace=True)"
   ]
  },
  {
   "cell_type": "code",
   "execution_count": null,
   "metadata": {
    "scrolled": false
   },
   "outputs": [],
   "source": [
    "#Pruebas Se puede borrar\n",
    "\n",
    "dataframe.head(20)\n"
   ]
  },
  {
   "cell_type": "markdown",
   "metadata": {},
   "source": [
    "Despues de la ejecion del script tenemos un total de 7596 columnas o caracteristicas de 19507 ejecutables entre ransomware y programas extraidos de windows 10. "
   ]
  },
  {
   "cell_type": "code",
   "execution_count": null,
   "metadata": {},
   "outputs": [],
   "source": [
    "#Guardar los datos en un archivo .csv para poder trabajar con ellos con mas calma sin la necesidad de volver a ejecutar el script \n",
    "#completamente. \n",
    "\n",
    "dataframe.to_csv('D:\\escritorio\\data.csv', header=True)"
   ]
  },
  {
   "cell_type": "markdown",
   "metadata": {},
   "source": [
    "**Limpieza de datos**\n",
    "\n",
    "En este apartado se empezará a realizar la limpieza de los datos de acuerdo a la descarga de la información que se realizó en de virustotal."
   ]
  },
  {
   "cell_type": "code",
   "execution_count": 1,
   "metadata": {},
   "outputs": [
    {
     "name": "stdout",
     "output_type": "stream",
     "text": [
      "(19507, 7587)\n"
     ]
    }
   ],
   "source": [
    "#lectura del archivo en donde se guardo la informacion. \n",
    "\n",
    "import pandas\n",
    "filename = 'D:\\escritorio\\Muestra\\Datos\\data - copia.csv'\n",
    "data = pandas.read_csv(filename, header=0)\n",
    "\n",
    "print(data.shape)19\n",
    "\n"
   ]
  },
  {
   "cell_type": "markdown",
   "metadata": {},
   "source": [
    "### Analisis de la información descargada\n",
    "\n",
    "Conteo de la categoria tipo, en la cual se pueden ver que existen **13748** valores Win32 EXE, los cuales corresponden a los ejecutables de windows 32. que son los que nos sirven para comprar los archivos extraidos del Windows. "
   ]
  },
  {
   "cell_type": "code",
   "execution_count": 2,
   "metadata": {},
   "outputs": [
    {
     "data": {
      "text/plain": [
       "Win32 EXE                   13748\n",
       "Win32 DLL                    3146\n",
       "unknown                      1138\n",
       "desconocido                   432\n",
       "Text                          209\n",
       "ZIP                           157\n",
       "HTML                          156\n",
       "Google Chrome Extension       153\n",
       "C++                           115\n",
       "JavaScript                     96\n",
       "DOS EXE                        35\n",
       "RAR                            34\n",
       "Windows shortcut               31\n",
       "CAB                            13\n",
       "XML                             8\n",
       "DOS COM                         6\n",
       "GZIP                            6\n",
       "Dyalog                          3\n",
       "Android                         3\n",
       "C                               3\n",
       "Email                           2\n",
       "ICO                             2\n",
       "Flash                           2\n",
       "PDF                             2\n",
       "7ZIP                            2\n",
       "Office Open XML Document        2\n",
       "COFF                            1\n",
       "Network capture                 1\n",
       "JAR                             1\n",
       "Name: Tipo, dtype: int64"
      ]
     },
     "execution_count": 2,
     "metadata": {},
     "output_type": "execute_result"
    }
   ],
   "source": [
    "data['Tipo'].value_counts() \n"
   ]
  },
  {
   "cell_type": "markdown",
   "metadata": {},
   "source": [
    "En total tenemos 13748 muestras de ransomware que corresponden a archivos **win32** los cuales son los que utilizaremos para el entrenamiento del modelo. No se tendra en cuenta los archivos, de otras categorias ya que la gran mayoria de archivos de los archivos extraidos de windows 10 son: Win32 EXE\n",
    "\n",
    "Detalle de archivos de windows 10: \n",
    "\n",
    "| Tipo | No. | \n",
    "| :- | -: | \n",
    "| Win32 EXE  | 2002 | \n",
    "| unknown  | 988 |\n",
    "| desconocido  | 432 |\n",
    "| Win32 DLL   | 41 |\n",
    "| DOS EXE  | 8 |\n",
    "| DOS COM  | 5 |\n",
    "| Dyalog  | 3 |\n",
    "| ICO  | 2 |\n",
    "| COFF  | 1 |\n",
    "\n",
    "No todos los archivos analizados por la sandbox son clasificados como win32 realizando el filtrado y analisis se puede ver a que corresponden las demas categorias: "
   ]
  },
  {
   "cell_type": "markdown",
   "metadata": {},
   "source": [
    "### Analisis de los archivos desconocidos y unknown segun la informacion extraida. "
   ]
  },
  {
   "cell_type": "code",
   "execution_count": null,
   "metadata": {},
   "outputs": [],
   "source": [
    "#analisis de los archivos desconocidos y unknown segun la informacion extraida. \n",
    "\n",
    "data[(data['Tipo']=='unknown') & (data['ransomware']==0)]['hash'].head(10)\n"
   ]
  },
  {
   "cell_type": "markdown",
   "metadata": {},
   "source": [
    "La siguiente imagen extraida de virustotal demuestra que efectivamente los archivos clasificados como **unknown** no tienen analisis, ya sea porque no se pudo efectuar, o porque por sus caracteristicas no se realizó. \n",
    "\n",
    "<img src=\"https://1.bp.blogspot.com/-4VRjSSO5HEI/Xw0PMnhZH1I/AAAAAAAABx0/HnqpRqn5bdUZtFe6haVY7jqB3pf6yt3vQCLcBGAsYHQ/s1600/analisis1.png\">\n",
    "\n",
    "Igualmente los archivos clasificados como **desconocido** no han sido analizados esto ocurre porque hasta la fecha no se tiene registro de su subida a la plataforma para realizar el posterior analisis; posibles razones ejecutables de los cuales nadie ha encontrado un comportamiento sospechoso. Adicionalmente los archivos \"Win32 DLL\" traen informacion basica de su analisis pero ninguno es analizado en una sandbox por lo cual traen informacion incompleta. \n",
    "\n",
    "Esto mismo pasa con los archivos, DOS EXE, DOS COM, Dyalog, ICO, COFF. \n",
    "\n",
    "\n",
    "**Conclusión:** Unicamente nos sirven los tipo **Win32 EXE** para poder realizar una buena comparación. "
   ]
  },
  {
   "cell_type": "code",
   "execution_count": null,
   "metadata": {},
   "outputs": [],
   "source": [
    "#creación de un nuevo dataframe unicamente con los datos win32 EXE\n",
    "datos_filtered = data[data['Tipo'] == 'Win32 EXE']\n",
    "datos_filtered.shape"
   ]
  },
  {
   "cell_type": "code",
   "execution_count": null,
   "metadata": {},
   "outputs": [],
   "source": [
    "# de acuerdo a la eliminacion de los valores que no generan mucho valor, ahora tenemos la siguiete cantidad de datos: \n",
    "datos_filtered['ransomware'].value_counts()"
   ]
  },
  {
   "cell_type": "markdown",
   "metadata": {},
   "source": [
    "Cantidad de muestras de malware por tipo despues de la depuración inicial: \n",
    "\n",
    "| Tipo| Numero | \n",
    "| :- | -: | \n",
    "| Ransomware  | 11746 | \n",
    "| Benigno  | 2002 |\n",
    "\n",
    "Teniendo en cuenta que aun tenemos 7587 caracteristicas. \n",
    "\n",
    "### Depuración de columnas\n",
    "\n",
    "Ya que los datos fueron descargados de una fuente externa muchas de las características pueden contener datos \"basura\" o que no aporten mucho valor al análisis posterior por lo cual el trabajo inicial será buscar esas columnas o características que no generan valor para eliminarlas. "
   ]
  },
  {
   "cell_type": "code",
   "execution_count": null,
   "metadata": {},
   "outputs": [],
   "source": [
    "datos_filtered.describe()"
   ]
  },
  {
   "cell_type": "code",
   "execution_count": null,
   "metadata": {},
   "outputs": [],
   "source": [
    "dfColumnas = datos_filtered.columns\n",
    "print(dfColumnas)\n",
    "dfColumnas.shape"
   ]
  },
  {
   "cell_type": "code",
   "execution_count": null,
   "metadata": {},
   "outputs": [],
   "source": [
    "datos_filtered.to_csv('D:\\escritorio\\data2.csv', header=True)"
   ]
  },
  {
   "cell_type": "code",
   "execution_count": 1,
   "metadata": {},
   "outputs": [
    {
     "name": "stdout",
     "output_type": "stream",
     "text": [
      "(13748, 7588)\n"
     ]
    }
   ],
   "source": [
    "import pandas\n",
    "filename = 'D:\\escritorio\\data2.csv'\n",
    "dataLimpieza = pandas.read_csv(filename, header=0)\n",
    "\n",
    "print(dataLimpieza.shape)"
   ]
  },
  {
   "cell_type": "code",
   "execution_count": 2,
   "metadata": {},
   "outputs": [
    {
     "name": "stdout",
     "output_type": "stream",
     "text": [
      "Index(['Unnamed: 0', 'Unnamed: 0.1', 'Unnamed: 1', '!#@tr$*#', '!@#@drhg',\n",
      "       '#qhbu7h6ab', '$AZ', '$OK', '$ZR', '((Mutex))',\n",
      "       ...\n",
      "       '{D9961D0B-0106-5584-AD6D-884HSI64CNI9}',\n",
      "       '{DBC7574C-4498-803C-3B52-A6F482B3FDE5}',\n",
      "       '{ECCC50B5-064A-4693-B104-925714A4C74B}',\n",
      "       '{EEEB680D-AE62-4375-B93E-E9AE5FF585C1}',\n",
      "       '{a20cd692-8e41-11e1-9999-806d6172696f}',\n",
      "       '{a4c6366c-be41-67d2-a73d-db175e228648}',\n",
      "       '{ca904f65-e663-6db9-8e9c-9deb8187a20e}',\n",
      "       '{cffa1ea4-e207-6e2d-9d41-a95950155215}',\n",
      "       '{e8600a57-1dc4-63f6-8d1b-555564a5a02a}', '~'],\n",
      "      dtype='object', length=7588)\n"
     ]
    },
    {
     "data": {
      "text/plain": [
       "(7588,)"
      ]
     },
     "execution_count": 2,
     "metadata": {},
     "output_type": "execute_result"
    }
   ],
   "source": [
    "dfColumnas = dataLimpieza.columns\n",
    "print(dfColumnas)\n",
    "dfColumnas.shape"
   ]
  },
  {
   "cell_type": "code",
   "execution_count": null,
   "metadata": {},
   "outputs": [],
   "source": []
  },
  {
   "cell_type": "markdown",
   "metadata": {},
   "source": [
    "### Depuración de Columnas\n",
    "\n",
    "Vemos las columnas que no tienen datos, esto se debe a la elimnacion anterior de las muestras clasificadas como no **\"Win32 EXE\"** en total 58 columnas. "
   ]
  },
  {
   "cell_type": "code",
   "execution_count": 3,
   "metadata": {},
   "outputs": [
    {
     "name": "stdout",
     "output_type": "stream",
     "text": [
      "7zip\n",
      "NumArchivosDescargados\n",
      "acledit.dll\n",
      "acroform\n",
      "android\n",
      "apk\n",
      "autoaction\n",
      "c\n",
      "cab\n",
      "cap\n",
      "coff\n",
      "com\n",
      "contains-elf\n",
      "contains-pe\n",
      "cpp\n",
      "create-ole\n",
      "crx\n",
      "cve-2008-2992\n",
      "cve-2013-0074\n",
      "cve-2018-5002\n",
      "docx\n",
      "dyalog\n",
      "dyn-calls\n",
      "email\n",
      "encrypted\n",
      "ess\n",
      "ext-interface\n",
      "flash\n",
      "gzip\n",
      "handle-file\n",
      "html\n",
      "ico\n",
      "invalid-xref\n",
      "jar\n",
      "javascript\n",
      "js-embedded\n",
      "lnk\n",
      "macros\n",
      "msstpapi.dll\n",
      "mz\n",
      "obfuscated\n",
      "open-file\n",
      "pdf\n",
      "pedll\n",
      "rar\n",
      "rbuffa\n",
      "reflection\n",
      "rtm.dll\n",
      "software-collection\n",
      "tar-bundle\n",
      "telephony\n",
      "text\n",
      "winfax.dll\n",
      "xml\n",
      "xpcom.dll\n",
      "zero-filled\n",
      "zip\n",
      "zlib\n",
      "\n",
      "\n",
      "Numero de columnas eliminadas:  58\n"
     ]
    }
   ],
   "source": [
    "#el siguiente código muestra la cantidad de columnas sin datos y realiza la eliminación de las mismas. \n",
    "j = 0\n",
    "for i in dfColumnas:\n",
    "    if dataLimpieza[i].sum() == 0:\n",
    "        j+=1\n",
    "        print(i)\n",
    "        dataLimpieza.drop([i],axis='columns', inplace=True)\n",
    "print(\"\\n\\nNumero de columnas eliminadas: \",j)\n"
   ]
  },
  {
   "cell_type": "code",
   "execution_count": 4,
   "metadata": {},
   "outputs": [
    {
     "data": {
      "text/plain": [
       "(13748, 7530)"
      ]
     },
     "execution_count": 4,
     "metadata": {},
     "output_type": "execute_result"
    }
   ],
   "source": [
    "dataLimpieza.shape"
   ]
  },
  {
   "cell_type": "code",
   "execution_count": 6,
   "metadata": {},
   "outputs": [
    {
     "data": {
      "text/plain": [
       "0     0\n",
       "1     1\n",
       "2     2\n",
       "3     3\n",
       "4     4\n",
       "5     5\n",
       "6     6\n",
       "7     8\n",
       "8     9\n",
       "9    12\n",
       "Name: Unnamed: 0, dtype: int64"
      ]
     },
     "execution_count": 6,
     "metadata": {},
     "output_type": "execute_result"
    }
   ],
   "source": [
    "#Eliminacion de la columna \"Unnamed: 0\" que unicamente corresponde a un indice. \n",
    "dataLimpieza['Unnamed: 0'].head(10)"
   ]
  },
  {
   "cell_type": "code",
   "execution_count": 7,
   "metadata": {},
   "outputs": [],
   "source": [
    "dataLimpieza.drop(['Unnamed: 0'],axis='columns', inplace=True)"
   ]
  },
  {
   "cell_type": "code",
   "execution_count": 8,
   "metadata": {},
   "outputs": [
    {
     "name": "stdout",
     "output_type": "stream",
     "text": [
      "Unnamed: 0.1\n",
      "Tipo\n",
      "hash\n"
     ]
    }
   ],
   "source": [
    "#realicemos la comprobacion de los datos que pueden no tener datos tipo float  \n",
    "dfColumnas = dataLimpieza.columns\n",
    "a = 0\n",
    "for i in dfColumnas: \n",
    "    if dataLimpieza[i].dtypes == 'float64':\n",
    "        a+=1\n",
    "    else:\n",
    "        print(i)\n",
    "   "
   ]
  },
  {
   "cell_type": "markdown",
   "metadata": {},
   "source": [
    "Efectivamente comprobamos que el dataframe unicamente tiene dos columnas con tipos de datos diferentes a float64 la columna hash que debe ser eliminada antes del entrenamiento y la columna Tipo la cual es la columna objetivo y debe ser convertida. "
   ]
  },
  {
   "cell_type": "code",
   "execution_count": 9,
   "metadata": {},
   "outputs": [],
   "source": [
    "dataLimpieza['Unnamed: 0.1'].head(10)\n",
    "dataLimpieza.drop(['Unnamed: 0.1'],axis='columns', inplace=True)"
   ]
  },
  {
   "cell_type": "code",
   "execution_count": 10,
   "metadata": {},
   "outputs": [
    {
     "data": {
      "text/plain": [
       "(13748, 7528)"
      ]
     },
     "execution_count": 10,
     "metadata": {},
     "output_type": "execute_result"
    }
   ],
   "source": [
    "dataLimpieza.shape"
   ]
  },
  {
   "cell_type": "code",
   "execution_count": 11,
   "metadata": {},
   "outputs": [],
   "source": [
    "#Eliminación de la columna hash, datos que no usaremos en el entrenamiento. \n",
    "dataLimpieza.drop(['hash'],axis='columns', inplace=True)"
   ]
  },
  {
   "cell_type": "code",
   "execution_count": 16,
   "metadata": {},
   "outputs": [],
   "source": [
    "#guardar los datos ya limpios para el trabajo con la red neuronal. \n",
    "dataLimpieza.to_csv('D:\\escritorio\\data3.csv', header=True)"
   ]
  }
 ],
 "metadata": {
  "kernelspec": {
   "display_name": "Python 3",
   "language": "python",
   "name": "python3"
  },
  "language_info": {
   "codemirror_mode": {
    "name": "ipython",
    "version": 3
   },
   "file_extension": ".py",
   "mimetype": "text/x-python",
   "name": "python",
   "nbconvert_exporter": "python",
   "pygments_lexer": "ipython3",
   "version": "3.7.3"
  }
 },
 "nbformat": 4,
 "nbformat_minor": 2
}
